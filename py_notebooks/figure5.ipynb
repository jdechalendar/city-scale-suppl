{
 "cells": [
  {
   "cell_type": "code",
   "execution_count": null,
   "metadata": {
    "collapsed": false
   },
   "outputs": [],
   "source": [
    "%matplotlib inline\n",
    "import sys\n",
    "import os\n",
    "REPO_PATH = os.getenv('REPO_PATH')\n",
    "sys.path.insert(0, os.path.join(REPO_PATH, \"py_notebooks/\"))\n",
    "figFolder = os.path.join(REPO_PATH, \"py_notebooks/figures/\")\n",
    "\n",
    "import pandas as pd\n",
    "import numpy as np\n",
    "import json\n",
    "from subprocess import call\n",
    "\n",
    "import myunits\n",
    "u = myunits.units()\n",
    "\n",
    "import matplotlib.pyplot as plt\n",
    "import plotting\n",
    "import plotly\n",
    "import plotly.graph_objs as go \n",
    "plotly.offline.init_notebook_mode()\n",
    "from plotly.colors import DEFAULT_PLOTLY_COLORS\n",
    "import plotly.io as pio\n",
    "\n",
    "cm_to_in = 0.393701\n",
    "single_col = 8.3\n",
    "double_col = 17.1\n",
    "GRAPH_CONFIG = {'showLink': False, 'displaylogo': False,                         \n",
    "                'modeBarButtonsToRemove':['sendDataToCloud']}\n",
    "\n",
    "SAVEFIGS = True"
   ]
  },
  {
   "cell_type": "markdown",
   "metadata": {},
   "source": [
    "# Figure 5"
   ]
  },
  {
   "cell_type": "code",
   "execution_count": null,
   "metadata": {
    "collapsed": false
   },
   "outputs": [],
   "source": [
    "folderNm = os.path.join(REPO_PATH, \"data/jl_out/demand_1.0/jlInput_x2_100000.0/\")\n",
    "df = pd.read_csv(folderNm + \"data.csv\", parse_dates=True,\n",
    "                 index_col=\"Date\")\n",
    "df.index -= pd.Timedelta('7h') # convert to CA time to do stuff\n",
    "\n",
    "fig = plt.figure(figsize=(single_col*cm_to_in,1.2))\n",
    "ax = fig.add_axes([0, 0, 1, 1])\n",
    "plotting.plotHeatmap(df, \"elecGrid\", fillValue=0,\n",
    "                     cbar_label=\"Carbon-aware grid imports (MWh)\",\n",
    "                     scaling=1e-3, fig=fig, ax=ax, ynTicks=4, xnTicks=4,\n",
    "                     transpose=True, cbar_nTicks=5,vmax=45, vmin=20)\n",
    "xlab = plt.xlabel(\"day\")\n",
    "if SAVEFIGS:\n",
    "    plt.savefig(figFolder+\"/fig5b.eps\", format='eps', dpi=200,\n",
    "                bbox_extra_artists=(xlab,), bbox_inches='tight')\n",
    "\n",
    "folderNm = os.path.join(REPO_PATH, \"data/jl_out/demand_1.0/jlInput_x2_0.0/\")\n",
    "df = pd.read_csv(folderNm + \"data.csv\", parse_dates=True,\n",
    "                 index_col=\"Date\")\n",
    "df.index -= pd.Timedelta('7h') # convert to CA time to do stuff\n",
    "\n",
    "fig = plt.figure(figsize=(single_col*cm_to_in,1.2))\n",
    "ax = fig.add_axes([0, 0, 1, 1])\n",
    "plotting.plotHeatmap(df, \"elecGrid\", fillValue=0,\n",
    "                     cbar_label=\"BAU grid imports (MWh)\", scaling=1e-3,\n",
    "                     fig=fig, ax=ax, ynTicks=4, xnTicks=4, transpose=True,\n",
    "                     cbar_nTicks=5,vmax=45, vmin=20)\n",
    "xlab = plt.xlabel(\"day\")\n",
    "if SAVEFIGS:\n",
    "    plt.savefig(figFolder+\"fig5a.eps\", format='eps', dpi=200,\n",
    "                bbox_extra_artists=(xlab,), bbox_inches='tight')"
   ]
  },
  {
   "cell_type": "code",
   "execution_count": null,
   "metadata": {
    "collapsed": true
   },
   "outputs": [],
   "source": []
  }
 ],
 "metadata": {
  "anaconda-cloud": {},
  "kernelspec": {
   "display_name": "Python [default]",
   "language": "python",
   "name": "python3"
  },
  "language_info": {
   "codemirror_mode": {
    "name": "ipython",
    "version": 3
   },
   "file_extension": ".py",
   "mimetype": "text/x-python",
   "name": "python",
   "nbconvert_exporter": "python",
   "pygments_lexer": "ipython3",
   "version": "3.5.6"
  }
 },
 "nbformat": 4,
 "nbformat_minor": 2
}
