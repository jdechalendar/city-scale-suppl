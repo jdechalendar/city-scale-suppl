{
 "cells": [
  {
   "cell_type": "code",
   "execution_count": 1,
   "metadata": {
    "collapsed": false
   },
   "outputs": [
    {
     "name": "stdout",
     "output_type": "stream",
     "text": [
      "Using /mnt/c/Users/jacqu/Dropbox/Benson_Lab/grid/publications/city_scale_experiments/code_submission as REPO_PATH\n",
      "The history saving thread hit an unexpected error (OperationalError('disk I/O error',)).History will not be written to the database.\n"
     ]
    }
   ],
   "source": [
    "import sys\n",
    "import os\n",
    "REPO_PATH = os.getenv('REPO_PATH')\n",
    "print(\"Using %s as REPO_PATH\" % REPO_PATH)\n",
    "sys.path.insert(0, os.path.join(REPO_PATH,\"py_notebooks/\"))\n",
    "figFolder = os.path.join(REPO_PATH, \"py_notebooks/figures/\")\n",
    "\n",
    "import pandas as pd\n",
    "import xlrd\n",
    "\n",
    "\n",
    "import matplotlib.dates as mdates\n",
    "import matplotlib.pyplot as plt\n",
    "\n",
    "import plotting\n",
    "\n",
    "# units\n",
    "import myunits\n",
    "u = myunits.units()\n",
    "GJ_per_mmbtu = u['GJ_per_mmbtu']\n",
    "kwh_per_mmbtu = u['kwh_per_mmbtu']\n",
    "\n",
    "kWh_per_tonhr = u['kWh_per_tonhr']\n",
    "GJ_per_kwh = u['GJ_per_kwh']\n",
    "GJ_per_ton = kWh_per_tonhr * GJ_per_kwh\n",
    "\n",
    "cm_to_in = 0.393701\n",
    "single_col = 8.3\n",
    "double_col = 17.1\n",
    "\n",
    "plotting.reset_fonts(SMALL_SIZE=9, MEDIUM_SIZE=9, BIGGER_SIZE=9)\n",
    "from matplotlib import rc\n",
    "\n",
    "rc('text', usetex=False)\n",
    "rc('font',**{'family':'sans-serif','sans-serif':['Helvetica'],\n",
    "             'size':8})"
   ]
  },
  {
   "cell_type": "code",
   "execution_count": 2,
   "metadata": {
    "collapsed": true
   },
   "outputs": [],
   "source": [
    "def figureS1(df):\n",
    "    \n",
    "    fig = plt.figure(figsize=(single_col*cm_to_in,1.2))\n",
    "    ax = fig.add_axes([0, 0, 1, 1])\n",
    "    plotting.plotHeatmap(df, \"CW_GJ\", fillValue=0,\n",
    "                         cbar_label=\"Cooling (GJ)\", scaling=1, fig=fig,\n",
    "                         ax=ax, ynTicks=4, xnTicks=4, vmin=40,vmax=300,\n",
    "                         transpose=True, cbar_nTicks=5)\n",
    "\n",
    "    lab = plt.xlabel(\"day\")\n",
    "    plt.savefig(figFolder+\"S1a.eps\", format='eps', dpi=200,\n",
    "                bbox_extra_artists=(lab,), bbox_inches='tight')\n",
    "\n",
    "    fig = plt.figure(figsize=(single_col*cm_to_in,1.2))\n",
    "    ax = fig.add_axes([0, 0, 1, 1])\n",
    "    plotting.plotHeatmap(df, \"HW_GJ\", fillValue=0,\n",
    "                         cbar_label=\"Heating (GJ)\", scaling=1, fig=fig,\n",
    "                         ax=ax, ynTicks=4, xnTicks=4, vmin=20,vmax=200,\n",
    "                         transpose=True, cbar_nTicks=5)\n",
    "    lab = plt.xlabel(\"day\")\n",
    "    plt.savefig(figFolder + \"S1b.eps\", format='eps', dpi=200,\n",
    "                bbox_extra_artists=(lab,), bbox_inches='tight')\n",
    "\n",
    "    fig = plt.figure(figsize=(single_col*cm_to_in,1.2))\n",
    "    ax = fig.add_axes([0, 0, 1, 1])\n",
    "    plotting.plotHeatmap(df, \"CampusElec_GJ\", fillValue=0,\n",
    "                         cbar_label=\"Electricity (GJe)\", scaling=1,\n",
    "                         fig=fig, ax=ax, ynTicks=4, xnTicks=4, vmin=70,\n",
    "                         vmax=115, transpose=True, cbar_nTicks=5)\n",
    "    lab = plt.xlabel(\"day\")\n",
    "    #plt.tight_layout()\n",
    "    plt.savefig(figFolder+\"S1c.eps\", format='eps', dpi=200,\n",
    "                bbox_extra_artists=(lab,), bbox_inches='tight')\n",
    "\n",
    "\n",
    "def figure1(df):\n",
    "\n",
    "    df[\"date\"] = df.index.date\n",
    "    df_daily = df.groupby(\"date\").sum()\n",
    "\n",
    "    df_daily[\"HRC_daily_CW\"] = df_daily.apply(lambda x:\n",
    "                                              min(x.CW_GJ, x.HW_GJ/1.3),\n",
    "                                              axis=1)\n",
    "\n",
    "    df_daily[\"HRC_daily_HW\"] = 1.37*df_daily.HRC_daily_CW\n",
    "\n",
    "    fig = plt.figure(figsize=(double_col*cm_to_in,2))\n",
    "    ax=plt.gca()\n",
    "    ax.fill_between(df_daily.index, 0, df_daily.CW_GJ, label=\"Cold\")\n",
    "\n",
    "    #plt.plot(-df_daily.HW_GJ/GJ_per_mmbtu)\n",
    "    ax.fill_between(df_daily.index, 0, -df_daily.HW_GJ, label=\"Hot\")\n",
    "    #plt.ylim([0, 4800])\n",
    "\n",
    "    print(\"Total HW GJ: %.2f\" % df_daily.HW_GJ.sum())\n",
    "    print(\"Total CW GJ: %.2f\" % df_daily.CW_GJ.sum())\n",
    "\n",
    "    ax.fill_between(df_daily.index, 0, df_daily.HRC_daily_CW,\n",
    "                    label=\"Cold (HRC)\")\n",
    "    bla = ax.fill_between(df_daily.index, 0, -df_daily.HRC_daily_HW,\n",
    "                          label=\"Hot (HRC)\")\n",
    "\n",
    "    leg = plt.legend(loc=1)\n",
    "\n",
    "    plt.ylim([-3300, 4800])\n",
    "\n",
    "    plt.ylabel('Thermal load (TJ)')\n",
    "\n",
    "    print(\"%.2f%% of CW can be met through HRCs\" % (100*df_daily.HRC_daily_CW.sum()/df_daily.CW_GJ.sum()))\n",
    "    print(\"%.2f%% of HW can be met through HRCs\" % (100*df_daily.HRC_daily_HW.sum()/df_daily.HW_GJ.sum()))\n",
    "\n",
    "    plt.yticks([-2000, 0, 2000, 4000], [\"-2\", \"0\", \"2\", \"4\"])\n",
    "    dateFmt = mdates.DateFormatter('%m-%y')\n",
    "    ax.xaxis.set_major_formatter(dateFmt)\n",
    "\n",
    "    plt.savefig(figFolder+\"fig1.png\", format='png', dpi=200,\n",
    "                bbox_extra_artists=(leg,), bbox_inches='tight')"
   ]
  },
  {
   "cell_type": "code",
   "execution_count": 3,
   "metadata": {
    "collapsed": false
   },
   "outputs": [],
   "source": [
    "df = pd.read_csv(REPO_PATH+'/data/load_data.csv', parse_dates=True,\n",
    "                 index_col=\"Date\")"
   ]
  },
  {
   "cell_type": "code",
   "execution_count": 4,
   "metadata": {
    "collapsed": false
   },
   "outputs": [
    {
     "data": {
      "text/html": [
       "<div>\n",
       "<style scoped>\n",
       "    .dataframe tbody tr th:only-of-type {\n",
       "        vertical-align: middle;\n",
       "    }\n",
       "\n",
       "    .dataframe tbody tr th {\n",
       "        vertical-align: top;\n",
       "    }\n",
       "\n",
       "    .dataframe thead th {\n",
       "        text-align: right;\n",
       "    }\n",
       "</style>\n",
       "<table border=\"1\" class=\"dataframe\">\n",
       "  <thead>\n",
       "    <tr style=\"text-align: right;\">\n",
       "      <th></th>\n",
       "      <th>CW_GJ</th>\n",
       "      <th>HW_GJ</th>\n",
       "      <th>CampusElec_GJ</th>\n",
       "    </tr>\n",
       "    <tr>\n",
       "      <th>Date</th>\n",
       "      <th></th>\n",
       "      <th></th>\n",
       "      <th></th>\n",
       "    </tr>\n",
       "  </thead>\n",
       "  <tbody>\n",
       "    <tr>\n",
       "      <th>2015-07-01 00:00:00</th>\n",
       "      <td>127.963353</td>\n",
       "      <td>34.213767</td>\n",
       "      <td>79.958886</td>\n",
       "    </tr>\n",
       "    <tr>\n",
       "      <th>2015-07-01 01:00:00</th>\n",
       "      <td>120.043524</td>\n",
       "      <td>34.982950</td>\n",
       "      <td>77.730973</td>\n",
       "    </tr>\n",
       "    <tr>\n",
       "      <th>2015-07-01 02:00:00</th>\n",
       "      <td>112.699037</td>\n",
       "      <td>34.116766</td>\n",
       "      <td>75.998624</td>\n",
       "    </tr>\n",
       "    <tr>\n",
       "      <th>2015-07-01 03:00:00</th>\n",
       "      <td>102.982891</td>\n",
       "      <td>34.076734</td>\n",
       "      <td>75.627212</td>\n",
       "    </tr>\n",
       "    <tr>\n",
       "      <th>2015-07-01 04:00:00</th>\n",
       "      <td>95.730250</td>\n",
       "      <td>28.833297</td>\n",
       "      <td>75.920346</td>\n",
       "    </tr>\n",
       "  </tbody>\n",
       "</table>\n",
       "</div>"
      ],
      "text/plain": [
       "                          CW_GJ      HW_GJ  CampusElec_GJ\n",
       "Date                                                     \n",
       "2015-07-01 00:00:00  127.963353  34.213767      79.958886\n",
       "2015-07-01 01:00:00  120.043524  34.982950      77.730973\n",
       "2015-07-01 02:00:00  112.699037  34.116766      75.998624\n",
       "2015-07-01 03:00:00  102.982891  34.076734      75.627212\n",
       "2015-07-01 04:00:00   95.730250  28.833297      75.920346"
      ]
     },
     "execution_count": 4,
     "metadata": {},
     "output_type": "execute_result"
    }
   ],
   "source": [
    "df.head()"
   ]
  },
  {
   "cell_type": "code",
   "execution_count": 5,
   "metadata": {
    "collapsed": false
   },
   "outputs": [
    {
     "name": "stdout",
     "output_type": "stream",
     "text": [
      "Total HW GJ: 1251223.56\n",
      "Total CW GJ: 1775312.57\n",
      "45.33% of CW can be met through HRCs\n",
      "88.12% of HW can be met through HRCs\n"
     ]
    },
    {
     "name": "stderr",
     "output_type": "stream",
     "text": [
      "/opt/anaconda3/lib/python3.5/site-packages/matplotlib/font_manager.py:1238: UserWarning: findfont: Font family ['sans-serif'] not found. Falling back to DejaVu Sans.\n",
      "  (prop.get_family(), self.defaultFamily[fontext]))\n"
     ]
    }
   ],
   "source": [
    "figure1(df)"
   ]
  },
  {
   "cell_type": "code",
   "execution_count": 6,
   "metadata": {
    "collapsed": false
   },
   "outputs": [],
   "source": [
    "figureS1(df)"
   ]
  },
  {
   "cell_type": "markdown",
   "metadata": {},
   "source": [
    "# Consumption in PJ per year\n",
    "Note that this skews towards the summer slightly, as there are three summers but two winters in the dataset. There were also heatwaves in June and September 2017."
   ]
  },
  {
   "cell_type": "code",
   "execution_count": 7,
   "metadata": {
    "collapsed": false
   },
   "outputs": [
    {
     "name": "stdout",
     "output_type": "stream",
     "text": [
      "803 days in the dataset\n",
      "Cold: 0.81 PJ\n",
      "Hot: 0.57 PJ\n",
      "Elec: 0.75 PJ\n"
     ]
    }
   ],
   "source": [
    "print(\"%d days in the dataset\" % (len(df)/24))\n",
    "print(\"Cold: %.2f PJ\" % (df.CW_GJ.sum()/1e6/803*365)) #PJ/year\n",
    "print(\"Hot: %.2f PJ\" % (df.HW_GJ.sum()/1e6/803*365))\n",
    "print(\"Elec: %.2f PJ\" % (df.CampusElec_GJ.sum()/1e6/803*365))"
   ]
  },
  {
   "cell_type": "code",
   "execution_count": 8,
   "metadata": {
    "collapsed": false
   },
   "outputs": [
    {
     "name": "stdout",
     "output_type": "stream",
     "text": [
      "CW_GJ            0.816892\n",
      "HW_GJ            0.525836\n",
      "CampusElec_GJ    1.619769\n",
      "dtype: float64\n",
      "CW_GJ            4.897012\n",
      "HW_GJ            3.693339\n",
      "CampusElec_GJ    2.370091\n",
      "dtype: float64\n"
     ]
    }
   ],
   "source": [
    "# Min and max daily requests - from the campus. Data in the paper come from actual operation schedules at the CEP\n",
    "print(df.groupby(df.index.date).sum().min()/1000)\n",
    "print(df.groupby(df.index.date).sum().max()/1000)"
   ]
  },
  {
   "cell_type": "code",
   "execution_count": null,
   "metadata": {
    "collapsed": true
   },
   "outputs": [],
   "source": []
  }
 ],
 "metadata": {
  "anaconda-cloud": {},
  "kernelspec": {
   "display_name": "Python [default]",
   "language": "python",
   "name": "python3"
  },
  "language_info": {
   "codemirror_mode": {
    "name": "ipython",
    "version": 3
   },
   "file_extension": ".py",
   "mimetype": "text/x-python",
   "name": "python",
   "nbconvert_exporter": "python",
   "pygments_lexer": "ipython3",
   "version": "3.5.6"
  }
 },
 "nbformat": 4,
 "nbformat_minor": 2
}
