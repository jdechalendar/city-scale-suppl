{
 "cells": [
  {
   "cell_type": "code",
   "execution_count": null,
   "metadata": {
    "collapsed": false
   },
   "outputs": [],
   "source": [
    "%matplotlib inline\n",
    "import sys\n",
    "import os\n",
    "REPO_PATH = os.getenv('REPO_PATH')\n",
    "sys.path.insert(0, os.path.join(REPO_PATH, \"py_notebooks/\"))\n",
    "\n",
    "import pandas as pd\n",
    "import numpy as np\n",
    "import json\n",
    "from subprocess import call\n",
    "\n",
    "import myunits\n",
    "u = myunits.units()\n",
    "\n",
    "import matplotlib.pyplot as plt\n",
    "import plotting\n",
    "import plotly\n",
    "import plotly.graph_objs as go \n",
    "plotly.offline.init_notebook_mode()\n",
    "from plotly.colors import DEFAULT_PLOTLY_COLORS\n",
    "import plotly.io as pio\n",
    "\n",
    "cm_to_in = 0.393701\n",
    "single_col = 8.3\n",
    "double_col = 17.1\n",
    "GRAPH_CONFIG = {'showLink': False, 'displaylogo': False,                         \n",
    "                'modeBarButtonsToRemove':['sendDataToCloud']}\n",
    "\n",
    "SAVEFIGS = True"
   ]
  },
  {
   "cell_type": "markdown",
   "metadata": {},
   "source": [
    "# Previous version"
   ]
  },
  {
   "cell_type": "raw",
   "metadata": {
    "collapsed": true
   },
   "source": [
    "def readdata(dc_ratio):\n",
    "    folderNm = os.path.join(REPO_PATH,\n",
    "                            \"data/jl_out/demand_%.1f/\"%dc_ratio)\n",
    "    with open(folderNm+\"ne_carbon_json_data\") as data_file:    \n",
    "        data = json.load(data_file)\n",
    "    res = data[0]\n",
    "    prices = data[1]\n",
    "    costs = data[2]\n",
    "    red = data[3]\n",
    "\n",
    "    for lb in costs:\n",
    "        costs[lb] = [0. if c is None else c for c in costs[lb]]\n",
    "        \n",
    "    baseC = res['jlInput_x0.csv']['0.0']['CEP_carbon']\n",
    "\n",
    "    red2 = dict()\n",
    "    for k in res:\n",
    "        red2[k] = []\n",
    "        for price in [0., 50., 75., 100.,150., 200., 300., 500., 1000.,\n",
    "                      10000., 100000.]:\n",
    "            red2[k] += [100*(baseC\n",
    "                             -res[k][str(price)]['CEP_carbon'])/baseC]\n",
    "    return (red2, costs)\n"
   ]
  },
  {
   "cell_type": "raw",
   "metadata": {
    "collapsed": false
   },
   "source": [
    "labs = {'jlInput_x0.csv':\"1X\", 'jlInput_x1.csv':\"2X\",\n",
    "        'jlInput_x2.csv':\"3X\", 'jlInput_x4.csv':\"5X\"}\n",
    "dashes = ['solid', 'dash', 'dot']\n",
    "opac = [1.0, 0.6, 0.2]\n",
    "showLeg = [True, False, False]\n",
    "plot_data = []\n",
    "for ii,lb in enumerate(labs):\n",
    "    for idc, dc_ratio in enumerate([1.0, 0.5, 0.1]):\n",
    "        (red2, costs) = readdata(dc_ratio)\n",
    "        showLegend = showLeg[idc]\n",
    "        name = labs[lb]\n",
    "        if lb == 'jlInput_x4.csv':\n",
    "            showLegend=True\n",
    "            name += \" - %.1f DC\"%dc_ratio\n",
    "        plot_data += [go.Scatter(name = name,\n",
    "                     x=red2[lb][:-1],\n",
    "                     y=[c for c in costs[lb][:-1]],\n",
    "                     showlegend=showLegend,\n",
    "                     opacity=opac[idc],\n",
    "                     line = dict(dash=dashes[idc],\n",
    "                                 color = DEFAULT_PLOTLY_COLORS[ii])\n",
    "                    )]\n",
    "\n",
    "layout = dict(\n",
    "    font=dict(size=18),\n",
    "    autosize=False,\n",
    "    width=650*1.5,\n",
    "    height=500,\n",
    "    title='CO2 abatement cost curves for Stanford heating and cooling emissions',\n",
    "    xaxis=dict(title='Emissions reduction from 2016 BAU levels (%)'),\n",
    "    yaxis=dict(title='$/tonne', range=[-10., 450.])\n",
    ")\n",
    "fig = go.Figure(data=plot_data, layout=layout)\n",
    "plotly.offline.iplot(fig, config=GRAPH_CONFIG)\n"
   ]
  },
  {
   "cell_type": "markdown",
   "metadata": {},
   "source": [
    "# New figure 6 after R1"
   ]
  },
  {
   "cell_type": "code",
   "execution_count": null,
   "metadata": {
    "collapsed": true
   },
   "outputs": [],
   "source": [
    "def readdataR1(dc_ratio):\n",
    "    folderNm = os.path.join(REPO_PATH,\n",
    "                            \"dataR1/jl_out/demand_%.1f\"%dc_ratio)\n",
    "    with open(folderNm+\"ne_carbon_json_data\") as data_file:    \n",
    "        data = json.load(data_file)\n",
    "    res = data[0]\n",
    "    prices = data[1]\n",
    "    costs = data[2]\n",
    "    red = data[3]\n",
    "\n",
    "    for lb in costs:\n",
    "        costs[lb] = [0. if c is None else c for c in costs[lb]]\n",
    "        \n",
    "    baseC = res['jlInput_x0.csv']['0.0']['CEP_carbon']\n",
    "\n",
    "    red2 = dict()\n",
    "    for k in res:\n",
    "        red2[k] = []\n",
    "        for price in [0., 50., 75., 100.,150., 200., 300., 500., 1000.,\n",
    "                      10000., 100000.]:\n",
    "            red2[k] += [100*(baseC\n",
    "                             -res[k][str(price)]['CEP_carbon'])/baseC]\n",
    "    return (red2, costs)\n"
   ]
  },
  {
   "cell_type": "code",
   "execution_count": null,
   "metadata": {
    "collapsed": false
   },
   "outputs": [],
   "source": [
    "labs = {'jlInput_x0.csv':\"2016\", 'jlInput_2018.csv':\"2018\",'jlInput_x1.csv':\"2X solar 2016\",\n",
    "        'jlInput_x2.csv':\"2025 (3X solar 2016)\", 'jlInput_x4.csv':\"5X solar 2016\"}\n",
    "dashes = ['solid', 'dash', 'dot']\n",
    "opac = [1.0, 0.6, 0.2]\n",
    "showLeg = [True, False, False]\n",
    "plot_data = []\n",
    "for ii,lb in enumerate(labs):\n",
    "    for idc, dc_ratio in enumerate([1.0, 0.5, 0.1]):\n",
    "        (red2, costs) = readdataR1(dc_ratio)\n",
    "        plot_data += [go.Scatter(\n",
    "            x=red2[lb][:-1],\n",
    "            y=[c for c in costs[lb][:-1]],\n",
    "            showlegend=False,\n",
    "            opacity=opac[idc],\n",
    "            line = dict(dash=dashes[idc],\n",
    "                        color = DEFAULT_PLOTLY_COLORS[ii])\n",
    "                    )]\n",
    "\n",
    "for idc, dc_ratio in enumerate([1.0, 0.5, 0.1]):\n",
    "    plot_data += [\n",
    "        go.Scatter(\n",
    "            name = \"%.1f DC\"%dc_ratio,\n",
    "            x=[-1],\n",
    "            y=[-100],\n",
    "            line = dict(dash=dashes[idc],\n",
    "                        color = \"gray\")\n",
    "                        )]\n",
    "\n",
    "layout = dict(\n",
    "    font=dict(size=18),\n",
    "    autosize=False,\n",
    "    width=650*1.5,\n",
    "    height=500,\n",
    "    title='CO2 abatement cost curves for Stanford heating and cooling emissions',\n",
    "    xaxis=dict(title='Emissions reduction from 2016 BAU levels (%)'),\n",
    "    yaxis=dict(title='$/tonne', range=[-10., 450.]),\n",
    "    legend=dict(x=0.8,y=1),\n",
    "    annotations=[\n",
    "        dict(x=3,y=300, xref='x', yref='y', text='2016',\n",
    "             showarrow=False, bgcolor='white'),\n",
    "        dict(x=13,y=250, xref='x', yref='y', text='2018',\n",
    "             showarrow=False, bgcolor='white'),\n",
    "        dict(x=25,y=200, xref='x', yref='y', text='2X solar',\n",
    "             showarrow=False, bgcolor='white'),\n",
    "        dict(x=38,y=160, xref='x', yref='y', text='2025 (3X solar)',\n",
    "             showarrow=False, bgcolor='white'),\n",
    "        dict(x=50,y=110, xref='x', yref='y', text='5X solar',\n",
    "             showarrow=False, bgcolor='white')]\n",
    ")\n",
    "fig = go.Figure(data=plot_data, layout=layout)\n",
    "plotly.offline.iplot(fig, config=GRAPH_CONFIG)\n",
    "#pio.write_image(fig, 'test.pdf')"
   ]
  },
  {
   "cell_type": "code",
   "execution_count": null,
   "metadata": {
    "collapsed": false
   },
   "outputs": [],
   "source": [
    "if SAVEFIGS:\n",
    "    call(['xvfb-run', 'orca', 'graph', json.dumps(fig, cls=plotly.utils.PlotlyJSONEncoder),\n",
    "          '-o', 'figures/fig6.pdf', '--format', 'pdf'])"
   ]
  },
  {
   "cell_type": "code",
   "execution_count": null,
   "metadata": {
    "collapsed": true
   },
   "outputs": [],
   "source": []
  }
 ],
 "metadata": {
  "anaconda-cloud": {},
  "kernelspec": {
   "display_name": "Python [default]",
   "language": "python",
   "name": "python3"
  },
  "language_info": {
   "codemirror_mode": {
    "name": "ipython",
    "version": 3
   },
   "file_extension": ".py",
   "mimetype": "text/x-python",
   "name": "python",
   "nbconvert_exporter": "python",
   "pygments_lexer": "ipython3",
   "version": "3.5.6"
  }
 },
 "nbformat": 4,
 "nbformat_minor": 2
}
